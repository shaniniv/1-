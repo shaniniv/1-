{
 "cells": [
  {
   "cell_type": "code",
   "execution_count": 7,
   "metadata": {},
   "outputs": [
    {
     "name": "stdout",
     "output_type": "stream",
     "text": [
      "הייצוג הבינארי של המספר הוא: 00010111\n",
      "הייצוג הבינארי השלילי הוא: 11101000\n",
      "המספר העשרוני המקורי הוא: 23\n"
     ]
    }
   ],
   "source": [
    "def to_binary(decimal, memory_size):\n",
    "    # המרת המספר העשרוני למערך בינארי\n",
    "    binary = bin(decimal)[2:]\n",
    "    if(len(binary)<memory_size):\n",
    "        binary = binary.zfill(memory_size)\n",
    "    else:\n",
    "        binary = binary[-memory_size]\n",
    "    return binary\n",
    "\n",
    " \n",
    "def ones_complement(binary):\n",
    "    complemented = ''.join(['1' if bit == '0' else '0' for bit in binary])\n",
    "    return complemented\n",
    "\n",
    "# קליטת המספר העשרוני מהמשתמש\n",
    "decimal_number = int(input(\"הזן מספר עשרוני: \"))\n",
    "memory_size = int(input(\"הזן גודל זיכרון נתון (בסיביות): \"))\n",
    "\n",
    "\n",
    "# הפעלת הפונקציה והדפסת התוצאה\n",
    "binary_result = to_binary(decimal_number, memory_size)\n",
    "print(\"הייצוג הבינארי של המספר הוא:\", binary_result)\n",
    "\n",
    "complement_result = ones_complement(binary_result)\n",
    "print(\"הייצוג הבינארי השלילי הוא:\", complement_result)\n",
    "\n",
    "print(\"המספר העשרוני המקורי הוא:\", decimal_number)\n",
    "\n"
   ]
  },
  {
   "cell_type": "code",
   "execution_count": 2,
   "metadata": {},
   "outputs": [
    {
     "name": "stdout",
     "output_type": "stream",
     "text": [
      "הייצוג הבינארי של המספר הוא: 00010111\n",
      "הייצוג הבינארי השלילי הוא: 11101000\n",
      "המספר העשרוני המקורי הוא: 23\n"
     ]
    }
   ],
   "source": [
    "def to_binary(decimal, memory_size):\n",
    "    binary_representation = bin(decimal)[2:]\n",
    "    while len(binary_representation) < memory_size:\n",
    "        binary_representation = '0' + binary_representation\n",
    "    return binary_representation\n",
    "\n",
    "def ones_complement(binary):\n",
    "    complemented = ''.join(['1' if bit == '0' else '0' for bit in binary])\n",
    "    return complemented\n",
    "\n",
    "decimal_number = int(input(\"הזן מספר עשרוני חיובי: \"))\n",
    "memory_size = int(input(\"הזן גודל זיכרון נתון (בסיביות): \"))\n",
    "\n",
    "binary_result = to_binary(decimal_number, memory_size)\n",
    "print(\"הייצוג הבינארי של המספר הוא:\", binary_result)\n",
    "\n",
    "complement_result = ones_complement(binary_result)\n",
    "print(\"הייצוג הבינארי השלילי הוא:\", complement_result)\n",
    "\n",
    "print(\"המספר העשרוני המקורי הוא:\", decimal_number)\n"
   ]
  }
 ],
 "metadata": {
  "kernelspec": {
   "display_name": "Python 3",
   "language": "python",
   "name": "python3"
  },
  "language_info": {
   "codemirror_mode": {
    "name": "ipython",
    "version": 3
   },
   "file_extension": ".py",
   "mimetype": "text/x-python",
   "name": "python",
   "nbconvert_exporter": "python",
   "pygments_lexer": "ipython3",
   "version": "3.11.1"
  },
  "orig_nbformat": 4
 },
 "nbformat": 4,
 "nbformat_minor": 2
}
