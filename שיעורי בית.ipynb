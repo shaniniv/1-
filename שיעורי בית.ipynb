{
 "cells": [
  {
   "cell_type": "code",
   "execution_count": null,
   "metadata": {},
   "outputs": [],
   "source": [
    "import sys\n",
    "from collections import Counter\n",
    "\n",
    "if len(sys.argv) != 2:\n",
    "    print(\"Usage: python word_count.py filename.txt\")\n",
    "    sys.exit(1)\n",
    "filename = sys.argv[1]\n",
    "with open(filename, 'r') as file:\n",
    "    text = file.read()\n",
    "words = text.split()\n",
    "words = [word.lower() for word in words]\n",
    "word_counts = Counter(words)\n",
    "sorted_words = sorted(word_counts.items(), key=lambda x: x[1], reverse=True)\n",
    "N = int(input(\"הזן את N: \"))\n",
    "for i in range(N):\n",
    "    if i < len(sorted_words):\n",
    "        word, count = sorted_words[i]\n",
    "        print(f\"{i + 1} - word \\\"{word}\\\" {count} times\")"
   ]
  }
 ],
 "metadata": {
  "kernelspec": {
   "display_name": "Python 3",
   "language": "python",
   "name": "python3"
  },
  "language_info": {
   "codemirror_mode": {
    "name": "ipython",
    "version": 3
   },
   "file_extension": ".py",
   "mimetype": "text/x-python",
   "name": "python",
   "nbconvert_exporter": "python",
   "pygments_lexer": "ipython3",
   "version": "3.11.1"
  }
 },
 "nbformat": 4,
 "nbformat_minor": 2
}
